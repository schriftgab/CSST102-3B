{
  "nbformat": 4,
  "nbformat_minor": 0,
  "metadata": {
    "colab": {
      "provenance": []
    },
    "kernelspec": {
      "name": "python3",
      "display_name": "Python 3"
    },
    "language_info": {
      "name": "python"
    }
  },
  "cells": [
    {
      "cell_type": "markdown",
      "source": [
        "# **Propositional Logic** **Operations:**\n",
        "\n",
        "\n",
        "\n"
      ],
      "metadata": {
        "id": "VathFFern_S0"
      }
    },
    {
      "cell_type": "code",
      "execution_count": 1,
      "metadata": {
        "id": "I63_fr29nwdQ"
      },
      "outputs": [],
      "source": [
        "def and_operation(p, q):\n",
        "    \"\"\"Logical conjunction (AND): Returns True if both p and q are True.\"\"\"\n",
        "    return p and q\n",
        "\n",
        "def or_operation(p, q):\n",
        "    \"\"\"Logical disjunction (OR): Returns True if at least one of p or q is True.\"\"\"\n",
        "    return p or q\n",
        "\n",
        "def not_operation(p):\n",
        "    \"\"\"Logical negation (NOT): Returns True if p is False, and False if p is True.\"\"\"\n",
        "    return not p\n",
        "\n",
        "def implies_operation(p, q):\n",
        "    \"\"\"Logical implication (IMPLIES): Returns True unless p is True and q is False.\"\"\"\n",
        "    return not p or q"
      ]
    },
    {
      "cell_type": "code",
      "source": [
        "def and_operation(p, q):\n",
        "    \"\"\"Logical conjunction (AND): Returns True if both p and q are True.\"\"\"\n",
        "    return p and q\n",
        "\n",
        "def or_operation(p, q):\n",
        "    \"\"\"Logical disjunction (OR): Returns True if at least one of p or q is True.\"\"\"\n",
        "    return p or q\n",
        "\n",
        "def not_operation(p):\n",
        "    \"\"\"Logical negation (NOT): Returns True if p is False, and False if p is True.\"\"\"\n",
        "    return not p\n",
        "\n",
        "def implies_operation(p, q):\n",
        "    \"\"\"Logical implication (IMPLIES): Returns True unless p is True and q is False.\"\"\"\n",
        "    return not p or q\n",
        "\n",
        "# Example usage\n",
        "p = True\n",
        "q = False\n",
        "\n",
        "print(\"AND:\", and_operation(p, q))          # Output: False\n",
        "print(\"OR:\", or_operation(p, q))            # Output: True\n",
        "print(\"NOT p:\", not_operation(p))           # Output: False\n",
        "print(\"p IMPLIES q:\", implies_operation(p, q))  # Output: False"
      ],
      "metadata": {
        "colab": {
          "base_uri": "https://localhost:8080/"
        },
        "id": "StU3v6TboWeP",
        "outputId": "400542ce-301d-45d5-9a54-3541685c9e4f"
      },
      "execution_count": 2,
      "outputs": [
        {
          "output_type": "stream",
          "name": "stdout",
          "text": [
            "AND: False\n",
            "OR: True\n",
            "NOT p: False\n",
            "p IMPLIES q: False\n"
          ]
        }
      ]
    },
    {
      "cell_type": "markdown",
      "source": [
        "# **Evaluate Logical Statements:**"
      ],
      "metadata": {
        "id": "1oILx7lTogTH"
      }
    },
    {
      "cell_type": "code",
      "source": [
        "def evaluate(statement, values):\n",
        "    \"\"\"Evaluate a logical statement given a dictionary of truth values.\"\"\"\n",
        "    return eval(statement, {}, values)"
      ],
      "metadata": {
        "id": "uEiInG9homLX"
      },
      "execution_count": 3,
      "outputs": []
    },
    {
      "cell_type": "code",
      "source": [
        "values = {'p': True, 'q': False}\n",
        "statement = 'p and not q'\n",
        "# Evaluate the logical statement using the provided truth values\n",
        "print(\"Evaluation of statement:\", evaluate(statement, values))"
      ],
      "metadata": {
        "colab": {
          "base_uri": "https://localhost:8080/"
        },
        "id": "9rUoWCEUorqi",
        "outputId": "e13d47d5-e04b-442a-f5f9-9d7cdefd6f4d"
      },
      "execution_count": 4,
      "outputs": [
        {
          "output_type": "stream",
          "name": "stdout",
          "text": [
            "Evaluation of statement: True\n"
          ]
        }
      ]
    },
    {
      "cell_type": "markdown",
      "source": [
        "# **Extend to Predicate Logic:**"
      ],
      "metadata": {
        "id": "niFWmYASo2Tw"
      }
    },
    {
      "cell_type": "code",
      "source": [
        "def forall(predicate, domain):\n",
        "    \"\"\"Evaluate a predicate for all elements in the domain.\"\"\"\n",
        "    return all(predicate(x) for x in domain)\n",
        "\n",
        "def exists(predicate, domain):\n",
        "    \"\"\"Evaluate if there exists at least one element in the domain for which the predicate is true.\"\"\"\n",
        "    return any(predicate(x) for x in domain)"
      ],
      "metadata": {
        "id": "bJE2uEfOo78m"
      },
      "execution_count": 5,
      "outputs": []
    },
    {
      "cell_type": "code",
      "source": [
        "def is_even(x):\n",
        "    \"\"\"Check if a number is even.\"\"\"\n",
        "    return x % 2 == 0\n",
        "\n",
        "domain = range(10)  # Define the domain of numbers from 0 to 9\n",
        "\n",
        "# Check if all numbers in the domain are even\n",
        "print(\"For all even:\", forall(is_even, domain))  # False\n",
        "\n",
        "# Check if there exists at least one even number in the domain\n",
        "print(\"Exists even:\", exists(is_even, domain))    # True"
      ],
      "metadata": {
        "colab": {
          "base_uri": "https://localhost:8080/"
        },
        "id": "Eb-yFspypCuG",
        "outputId": "8c0ad5ff-caa9-43a1-ae80-d3efea0cb095"
      },
      "execution_count": 6,
      "outputs": [
        {
          "output_type": "stream",
          "name": "stdout",
          "text": [
            "For all even: False\n",
            "Exists even: True\n"
          ]
        }
      ]
    },
    {
      "cell_type": "markdown",
      "source": [
        "# **AI Agent Development:**"
      ],
      "metadata": {
        "id": "3SEmjDwcpM_Z"
      }
    },
    {
      "cell_type": "code",
      "source": [
        "class SimpleDecisionAgent:\n",
        "    def __init__(self, position, obstacles):\n",
        "        self.position = position  # Current position of the agent as (x, y)\n",
        "        self.obstacles = obstacles  # List of obstacle positions\n",
        "\n",
        "    def decide_action(self):\n",
        "        # Define possible moves based on the current position\n",
        "        forward = (self.position[0], self.position[1] + 1)  # Move forward (up)\n",
        "        left = (self.position[0] - 1, self.position[1])     # Turn left (left)\n",
        "        right = (self.position[0] + 1, self.position[1])    # Turn right (right)\n",
        "\n",
        "        # Check if the forward position is clear\n",
        "        if forward not in self.obstacles:\n",
        "            return \"Move Forward\"\n",
        "        # Check if the left position is clear\n",
        "        elif left not in self.obstacles:\n",
        "            return \"Turn Left\"\n",
        "        # Check if the right position is clear\n",
        "        elif right not in self.obstacles:\n",
        "            return \"Turn Right\"\n",
        "        # If all directions are blocked, stay in place\n",
        "        else:\n",
        "            return \"Stay in Place\"\n",
        "\n",
        "# Example usage\n",
        "initial_position = (2, 2)  # Starting position of the agent\n",
        "obstacle_positions = [(2, 3), (1, 2), (3, 2)]  # Obstacles in the grid\n",
        "\n",
        "agent = SimpleDecisionAgent(initial_position, obstacle_positions)\n",
        "\n",
        "# Decide the next action based on the current position and obstacles\n",
        "next_action = agent.decide_action()\n",
        "print(\"Next Action:\", next_action)  # Output will depend on the current position and obstacles"
      ],
      "metadata": {
        "colab": {
          "base_uri": "https://localhost:8080/"
        },
        "id": "KvVRWhk-pQyZ",
        "outputId": "cc1f69bf-1da0-4b1f-f0f8-1d5f89ea0fac"
      },
      "execution_count": 7,
      "outputs": [
        {
          "output_type": "stream",
          "name": "stdout",
          "text": [
            "Next Action: Stay in Place\n"
          ]
        }
      ]
    }
  ]
}